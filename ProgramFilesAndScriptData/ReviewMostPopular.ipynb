{
 "cells": [
  {
   "cell_type": "code",
   "execution_count": 1,
   "id": "5e81345c",
   "metadata": {},
   "outputs": [],
   "source": [
    "# Charity Smith\n",
    "# Diving into Darkness: A Comparative Analysis of Batman Movies Through NLP and Sentiment Analysis\n",
    "# Analyze Reviews for Most Popular Movie"
   ]
  },
  {
   "cell_type": "code",
   "execution_count": 42,
   "id": "aa88273e-b88f-45a4-9cc3-1829cff2457d",
   "metadata": {},
   "outputs": [],
   "source": [
    "# Import necessary libraries\n",
    "import pandas as pd\n",
    "import string\n",
    "import nltk\n",
    "from nltk.corpus import stopwords\n",
    "from sklearn.feature_extraction.text import CountVectorizer\n",
    "from sklearn.feature_extraction.text import TfidfVectorizer\n",
    "from sklearn.model_selection import train_test_split\n",
    "from sklearn.naive_bayes import MultinomialNB\n",
    "from sklearn.metrics import accuracy_score, confusion_matrix, classification_report\n",
    "import matplotlib.pyplot as plt\n",
    "import seaborn as sns\n",
    "import pandas as pd\n",
    "import re\n",
    "from nltk.tokenize import word_tokenize\n",
    "from textblob import TextBlob\n",
    "from sklearn.utils import resample"
   ]
  },
  {
   "cell_type": "code",
   "execution_count": 43,
   "id": "0ebaf34a-eaae-47f3-8b63-e3cba7b375aa",
   "metadata": {},
   "outputs": [
    {
     "name": "stderr",
     "output_type": "stream",
     "text": [
      "[nltk_data] Downloading package stopwords to\n",
      "[nltk_data]     /Users/charitysmith/nltk_data...\n",
      "[nltk_data]   Package stopwords is already up-to-date!\n",
      "[nltk_data] Downloading package punkt to\n",
      "[nltk_data]     /Users/charitysmith/nltk_data...\n",
      "[nltk_data]   Package punkt is already up-to-date!\n"
     ]
    },
    {
     "data": {
      "text/plain": [
       "True"
      ]
     },
     "execution_count": 43,
     "metadata": {},
     "output_type": "execute_result"
    }
   ],
   "source": [
    "# Download NLTK data files\n",
    "nltk.download('stopwords')\n",
    "nltk.download('punkt')"
   ]
  },
  {
   "cell_type": "code",
   "execution_count": 44,
   "id": "2477050f-819b-4185-b616-19056d5693a6",
   "metadata": {},
   "outputs": [
    {
     "data": {
      "text/html": [
       "<div>\n",
       "<style scoped>\n",
       "    .dataframe tbody tr th:only-of-type {\n",
       "        vertical-align: middle;\n",
       "    }\n",
       "\n",
       "    .dataframe tbody tr th {\n",
       "        vertical-align: top;\n",
       "    }\n",
       "\n",
       "    .dataframe thead th {\n",
       "        text-align: right;\n",
       "    }\n",
       "</style>\n",
       "<table border=\"1\" class=\"dataframe\">\n",
       "  <thead>\n",
       "    <tr style=\"text-align: right;\">\n",
       "      <th></th>\n",
       "      <th>Movie</th>\n",
       "      <th>Review</th>\n",
       "    </tr>\n",
       "  </thead>\n",
       "  <tbody>\n",
       "    <tr>\n",
       "      <th>0</th>\n",
       "      <td>batman</td>\n",
       "      <td>tim burton's batman is a gothic superhero movi...</td>\n",
       "    </tr>\n",
       "    <tr>\n",
       "      <th>1</th>\n",
       "      <td>batman</td>\n",
       "      <td>set to danny elfman’s triumphant score, burton...</td>\n",
       "    </tr>\n",
       "    <tr>\n",
       "      <th>2</th>\n",
       "      <td>batman</td>\n",
       "      <td>the result is a film that may please adults mo...</td>\n",
       "    </tr>\n",
       "    <tr>\n",
       "      <th>3</th>\n",
       "      <td>batman</td>\n",
       "      <td>the gotham city created in batman is one of th...</td>\n",
       "    </tr>\n",
       "    <tr>\n",
       "      <th>4</th>\n",
       "      <td>batman</td>\n",
       "      <td>it is both a technical and aesthetic triumph, ...</td>\n",
       "    </tr>\n",
       "  </tbody>\n",
       "</table>\n",
       "</div>"
      ],
      "text/plain": [
       "    Movie                                             Review\n",
       "0  batman  tim burton's batman is a gothic superhero movi...\n",
       "1  batman  set to danny elfman’s triumphant score, burton...\n",
       "2  batman  the result is a film that may please adults mo...\n",
       "3  batman  the gotham city created in batman is one of th...\n",
       "4  batman  it is both a technical and aesthetic triumph, ..."
      ]
     },
     "execution_count": 44,
     "metadata": {},
     "output_type": "execute_result"
    }
   ],
   "source": [
    "# Read the CSV file that contains movie reviews into a DataFrame\n",
    "df = pd.read_csv('batman_movie_reviews.csv')\n",
    "\n",
    "# Convert all text in the DataFrame to lowercase\n",
    "df = df.apply(lambda x: x.str.lower() if x.dtype == \"object\" else x)\n",
    "\n",
    "df.head()"
   ]
  },
  {
   "cell_type": "code",
   "execution_count": 45,
   "id": "07e4257a-5c7a-427d-92df-0d1d701cbfdf",
   "metadata": {},
   "outputs": [
    {
     "data": {
      "text/html": [
       "<div>\n",
       "<style scoped>\n",
       "    .dataframe tbody tr th:only-of-type {\n",
       "        vertical-align: middle;\n",
       "    }\n",
       "\n",
       "    .dataframe tbody tr th {\n",
       "        vertical-align: top;\n",
       "    }\n",
       "\n",
       "    .dataframe thead th {\n",
       "        text-align: right;\n",
       "    }\n",
       "</style>\n",
       "<table border=\"1\" class=\"dataframe\">\n",
       "  <thead>\n",
       "    <tr style=\"text-align: right;\">\n",
       "      <th></th>\n",
       "      <th>Movie</th>\n",
       "      <th>Review</th>\n",
       "      <th>Cleaned_Review</th>\n",
       "    </tr>\n",
       "  </thead>\n",
       "  <tbody>\n",
       "    <tr>\n",
       "      <th>0</th>\n",
       "      <td>batman</td>\n",
       "      <td>tim burton's batman is a gothic superhero movi...</td>\n",
       "      <td>tim burtons batman gothic superhero movie embr...</td>\n",
       "    </tr>\n",
       "    <tr>\n",
       "      <th>1</th>\n",
       "      <td>batman</td>\n",
       "      <td>set to danny elfman’s triumphant score, burton...</td>\n",
       "      <td>set danny elfmans triumphant score burtons fir...</td>\n",
       "    </tr>\n",
       "    <tr>\n",
       "      <th>2</th>\n",
       "      <td>batman</td>\n",
       "      <td>the result is a film that may please adults mo...</td>\n",
       "      <td>result film may please adults youngsters isnt ...</td>\n",
       "    </tr>\n",
       "    <tr>\n",
       "      <th>3</th>\n",
       "      <td>batman</td>\n",
       "      <td>the gotham city created in batman is one of th...</td>\n",
       "      <td>gotham city created batman one distinctive atm...</td>\n",
       "    </tr>\n",
       "    <tr>\n",
       "      <th>4</th>\n",
       "      <td>batman</td>\n",
       "      <td>it is both a technical and aesthetic triumph, ...</td>\n",
       "      <td>technical aesthetic triumph fact made impressi...</td>\n",
       "    </tr>\n",
       "  </tbody>\n",
       "</table>\n",
       "</div>"
      ],
      "text/plain": [
       "    Movie                                             Review  \\\n",
       "0  batman  tim burton's batman is a gothic superhero movi...   \n",
       "1  batman  set to danny elfman’s triumphant score, burton...   \n",
       "2  batman  the result is a film that may please adults mo...   \n",
       "3  batman  the gotham city created in batman is one of th...   \n",
       "4  batman  it is both a technical and aesthetic triumph, ...   \n",
       "\n",
       "                                      Cleaned_Review  \n",
       "0  tim burtons batman gothic superhero movie embr...  \n",
       "1  set danny elfmans triumphant score burtons fir...  \n",
       "2  result film may please adults youngsters isnt ...  \n",
       "3  gotham city created batman one distinctive atm...  \n",
       "4  technical aesthetic triumph fact made impressi...  "
      ]
     },
     "execution_count": 45,
     "metadata": {},
     "output_type": "execute_result"
    }
   ],
   "source": [
    "# Function to preprocess reviews\n",
    "def preprocess_review(text):\n",
    "    # Check if text is NaN (missing value)\n",
    "    if pd.isnull(text):\n",
    "        return \"\"\n",
    "    # Convert text to lowercase\n",
    "    text = text.lower()\n",
    "    # Remove punctuation and special characters\n",
    "    text = re.sub(r'[^\\w\\s]', '', str(text))\n",
    "    # Tokenize text\n",
    "    tokens = word_tokenize(text)\n",
    "    # Remove stopwords\n",
    "    stop_words = set(stopwords.words('english'))\n",
    "    tokens = [token for token in tokens if token not in stop_words]\n",
    "    return ' '.join(tokens)\n",
    "\n",
    "# Apply preprocessing to the review data\n",
    "df['Cleaned_Review'] = df['Review'].apply(preprocess_review)\n",
    "\n",
    "# Display the cleaned DataFrame\n",
    "df.head()"
   ]
  },
  {
   "cell_type": "markdown",
   "id": "179f31d2-b9f4-4aab-bbf3-dc09707fc0c0",
   "metadata": {},
   "source": [
    "NLP Approach: Using TextBlob for Sentiment Analysis"
   ]
  },
  {
   "cell_type": "code",
   "execution_count": 46,
   "id": "0b5ade1d-92dd-4773-bbc4-b0d22f4d9b09",
   "metadata": {},
   "outputs": [],
   "source": [
    "# Function to get the polarity of the review\n",
    "def get_polarity(text):\n",
    "    return TextBlob(text).sentiment.polarity\n",
    "\n",
    "# Apply the function to get polarity scores\n",
    "df['Polarity'] = df['Cleaned_Review'].apply(get_polarity)\n",
    "\n",
    "# Classify the sentiment\n",
    "df['Sentiment'] = df['Polarity'].apply(lambda x: 'positive' if x > 0 else ('negative' if x < 0 else 'neutral'))"
   ]
  },
  {
   "cell_type": "code",
   "execution_count": 47,
   "id": "be510cd2-2afc-4fd6-b425-2a0cf70e2b52",
   "metadata": {},
   "outputs": [
    {
     "name": "stdout",
     "output_type": "stream",
     "text": [
      "Average Sentiment Polarity for each movie:\n",
      "Movie\n",
      "batman             0.132296\n",
      "the dark knight    0.108523\n",
      "Name: Polarity, dtype: float64\n"
     ]
    }
   ],
   "source": [
    "# Calculate average polarity for each movie\n",
    "average_polarity = df.groupby('Movie')['Polarity'].mean()\n",
    "\n",
    "# Print the average sentiment values for each movie\n",
    "print(\"Average Sentiment Polarity for each movie:\")\n",
    "print(average_polarity)"
   ]
  },
  {
   "cell_type": "code",
   "execution_count": 48,
   "id": "7657b72e-ba41-4502-b07e-8e5fea8c6243",
   "metadata": {},
   "outputs": [
    {
     "data": {
      "image/png": "[encoded data removed]",
      "text/plain": [
       "<Figure size 720x432 with 1 Axes>"
      ]
     },
     "metadata": {
      "needs_background": "light"
     },
     "output_type": "display_data"
    }
   ],
   "source": [
    "# Plot average polarity for each movie\n",
    "plt.figure(figsize=(10, 6))\n",
    "average_polarity.plot(kind='bar', color=['blue', 'green'])\n",
    "plt.title('Average Sentiment Polarity by Movie')\n",
    "plt.ylabel('Average Polarity')\n",
    "plt.xlabel('Movie')\n",
    "plt.show()"
   ]
  },
  {
   "cell_type": "markdown",
   "id": "934a21a8-0379-402b-8d48-d36bf967cc17",
   "metadata": {},
   "source": [
    "The average sentiment polarity values for each movie indicate the overall sentiment expressed in the reviews for each movie. Sentiment polarity is a measure of the emotional tone of the text, ranging from -1 (very negative) to 1 (very positive). Here’s the interpretation of the values:\n",
    "\n",
    "Batman: The average sentiment polarity for \"Batman\" is 0.132296. This value is positive, suggesting that, on average, the reviews for this movie have a slightly positive sentiment. It indicates that the general tone of the reviews is favorable.\n",
    "\n",
    "The Dark Knight: The average sentiment polarity for \"The Dark Knight\" is 0.108523. This value is also positive but slightly lower than the average sentiment for \"Batman.\" It suggests that the reviews for \"The Dark Knight\" are also generally positive, but the sentiment is slightly less positive compared to the reviews for \"Batman.\"\n",
    "\n",
    "Summary:\n",
    "Both movies received generally positive reviews, but \"Batman\" has a slightly higher average sentiment polarity than \"The Dark Knight,\" indicating a marginally more favorable reception based on the sentiment analysis of the reviews."
   ]
  },
  {
   "cell_type": "code",
   "execution_count": 25,
   "id": "5780272d-2060-41d3-87af-319c7f592031",
   "metadata": {},
   "outputs": [
    {
     "data": {
      "image/png": "[encoded data removed]",
      "text/plain": [
       "<Figure size 720x432 with 1 Axes>"
      ]
     },
     "metadata": {
      "needs_background": "light"
     },
     "output_type": "display_data"
    }
   ],
   "source": [
    "# Plot sentiment distribution for each movie\n",
    "plt.figure(figsize=(10, 6))\n",
    "sns.countplot(x='Movie', hue='Sentiment', data=df)\n",
    "plt.title('Sentiment Distribution by Movie')\n",
    "plt.show()"
   ]
  },
  {
   "cell_type": "markdown",
   "id": "93479574-8499-47d0-b382-71b5c622f100",
   "metadata": {},
   "source": [
    "Machine Learning Approach: Using Naive Bayes for Sentiment Classification"
   ]
  },
  {
   "cell_type": "code",
   "execution_count": 30,
   "id": "fd3bbbd9-8ec5-4ab0-8635-a7996e0bcceb",
   "metadata": {},
   "outputs": [],
   "source": [
    "# Convert text to features using TF-IDF Vectorizer\n",
    "tfidf = TfidfVectorizer(max_features=5000)\n",
    "X = tfidf.fit_transform(df['Cleaned_Review']).toarray()\n",
    "\n",
    "# Target variable\n",
    "y = df['Sentiment']\n",
    "\n",
    "# Split data into training and test sets\n",
    "X_train, X_test, y_train, y_test = train_test_split(X, y, test_size=0.2, random_state=42)\n",
    "\n",
    "# Train a Naive Bayes classifier\n",
    "nb = MultinomialNB()\n",
    "nb.fit(X_train, y_train)\n",
    "\n",
    "# Make predictions\n",
    "y_pred = nb.predict(X_test)"
   ]
  },
  {
   "cell_type": "code",
   "execution_count": 32,
   "id": "dbcc0024-a881-4005-aec0-6d27ff0b0b61",
   "metadata": {},
   "outputs": [
    {
     "name": "stdout",
     "output_type": "stream",
     "text": [
      "Accuracy: 0.5816326530612245\n",
      "Confusion Matrix:\n",
      " [[ 1  0 32]\n",
      " [ 0  0  9]\n",
      " [ 0  0 56]]\n",
      "Classification Report:\n",
      "               precision    recall  f1-score   support\n",
      "\n",
      "    negative       1.00      0.03      0.06        33\n",
      "     neutral       0.00      0.00      0.00         9\n",
      "    positive       0.58      1.00      0.73        56\n",
      "\n",
      "    accuracy                           0.58        98\n",
      "   macro avg       0.53      0.34      0.26        98\n",
      "weighted avg       0.67      0.58      0.44        98\n",
      "\n"
     ]
    },
    {
     "name": "stderr",
     "output_type": "stream",
     "text": [
      "/Users/charitysmith/opt/anaconda3/lib/python3.9/site-packages/sklearn/metrics/_classification.py:1318: UndefinedMetricWarning: Precision and F-score are ill-defined and being set to 0.0 in labels with no predicted samples. Use `zero_division` parameter to control this behavior.\n",
      "  _warn_prf(average, modifier, msg_start, len(result))\n",
      "/Users/charitysmith/opt/anaconda3/lib/python3.9/site-packages/sklearn/metrics/_classification.py:1318: UndefinedMetricWarning: Precision and F-score are ill-defined and being set to 0.0 in labels with no predicted samples. Use `zero_division` parameter to control this behavior.\n",
      "  _warn_prf(average, modifier, msg_start, len(result))\n",
      "/Users/charitysmith/opt/anaconda3/lib/python3.9/site-packages/sklearn/metrics/_classification.py:1318: UndefinedMetricWarning: Precision and F-score are ill-defined and being set to 0.0 in labels with no predicted samples. Use `zero_division` parameter to control this behavior.\n",
      "  _warn_prf(average, modifier, msg_start, len(result))\n"
     ]
    }
   ],
   "source": [
    "# Evaluate the model\n",
    "print('Accuracy:', accuracy_score(y_test, y_pred))\n",
    "print('Confusion Matrix:\\n', confusion_matrix(y_test, y_pred))\n",
    "print('Classification Report:\\n', classification_report(y_test, y_pred))"
   ]
  },
  {
   "cell_type": "code",
   "execution_count": 33,
   "id": "b3e4975d-076d-4a21-91bf-55bb7b6245b8",
   "metadata": {},
   "outputs": [
    {
     "data": {
      "image/png": "[encoded data removed]",
      "text/plain": [
       "<Figure size 576x432 with 2 Axes>"
      ]
     },
     "metadata": {
      "needs_background": "light"
     },
     "output_type": "display_data"
    }
   ],
   "source": [
    "# Plot confusion matrix\n",
    "plt.figure(figsize=(8, 6))\n",
    "sns.heatmap(confusion_matrix(y_test, y_pred), annot=True, fmt='d', cmap='Blues', xticklabels=nb.classes_, yticklabels=nb.classes_)\n",
    "plt.title('Confusion Matrix')\n",
    "plt.xlabel('Predicted')\n",
    "plt.ylabel('Actual')\n",
    "plt.show()"
   ]
  },
  {
   "cell_type": "markdown",
   "id": "47b5c63b-ab2c-4f25-ac67-e6189c99d1d5",
   "metadata": {},
   "source": [
    "Accuracy: 0.5816326530612245\n",
    "This indicates that the model correctly predicted the sentiment of 58.16% of the reviews. This is not particularly high and suggests that the model may not be performing well overall.\n",
    "\n",
    "The confusion matrix is:\n",
    "negative (33 reviews): The model predicted 1 review correctly as negative and 32 incorrectly as positive.\n",
    "neutral (9 reviews): The model predicted none of the neutral reviews correctly and misclassified all 9 as positive.\n",
    "positive (56 reviews): The model predicted all 56 positive reviews correctly.\n",
    "\n",
    "The model performs well for the positive class but poorly for the negative and neutral classes.\n",
    "The overall accuracy of 58.16% suggests that the model is biased towards predicting the positive class, likely because the positive class has the highest support (56 out of 98 reviews).\n",
    "The model's poor performance in predicting negative and neutral sentiments indicates that it struggles to differentiate these sentiments from positive ones.\n",
    "\n",
    "Addressing this imbalance through resampling or class weighting could improve the model's performance."
   ]
  },
  {
   "cell_type": "markdown",
   "id": "c6aee3ab-222d-4362-ad97-ec072d5953e3",
   "metadata": {},
   "source": [
    "Improved Machine Learning Approach"
   ]
  },
  {
   "cell_type": "code",
   "execution_count": 37,
   "id": "628963e7-1d33-4d51-acb6-391e0c5c9e70",
   "metadata": {},
   "outputs": [
    {
     "name": "stdout",
     "output_type": "stream",
     "text": [
      "Accuracy: 0.864406779661017\n",
      "Confusion Matrix:\n",
      " [[46  0  2]\n",
      " [ 6 61  0]\n",
      " [14  2 46]]\n",
      "Classification Report:\n",
      "               precision    recall  f1-score   support\n",
      "\n",
      "    negative       0.70      0.96      0.81        48\n",
      "     neutral       0.97      0.91      0.94        67\n",
      "    positive       0.96      0.74      0.84        62\n",
      "\n",
      "    accuracy                           0.86       177\n",
      "   macro avg       0.87      0.87      0.86       177\n",
      "weighted avg       0.89      0.86      0.87       177\n",
      "\n"
     ]
    }
   ],
   "source": [
    "# Resample to address class imbalance\n",
    "positive = df[df['Sentiment'] == 'positive']\n",
    "neutral = df[df['Sentiment'] == 'neutral']\n",
    "negative = df[df['Sentiment'] == 'negative']\n",
    "\n",
    "# Upsample minority classes\n",
    "neutral_upsampled = resample(neutral, replace=True, n_samples=len(positive), random_state=42)\n",
    "negative_upsampled = resample(negative, replace=True, n_samples=len(positive), random_state=42)\n",
    "\n",
    "# Combine majority class with upsampled minority classes\n",
    "df_balanced = pd.concat([positive, neutral_upsampled, negative_upsampled])\n",
    "\n",
    "# Feature extraction using TF-IDF Vectorizer\n",
    "tfidf = TfidfVectorizer(max_features=5000)\n",
    "X = tfidf.fit_transform(df_balanced['Cleaned_Review']).toarray()\n",
    "y = df_balanced['Sentiment']\n",
    "\n",
    "# Split data into training and test sets\n",
    "X_train, X_test, y_train, y_test = train_test_split(X, y, test_size=0.2, random_state=42)\n",
    "\n",
    "# Train a Naive Bayes classifier\n",
    "nb = MultinomialNB()\n",
    "nb.fit(X_train, y_train)\n",
    "\n",
    "# Make predictions\n",
    "y_pred = nb.predict(X_test)\n",
    "\n",
    "# Evaluate the model\n",
    "print('Accuracy:', accuracy_score(y_test, y_pred))\n",
    "print('Confusion Matrix:\\n', confusion_matrix(y_test, y_pred))\n",
    "print('Classification Report:\\n', classification_report(y_test, y_pred))"
   ]
  },
  {
   "cell_type": "code",
   "execution_count": 38,
   "id": "e7fbb6f8-7926-4062-9da5-eeb6b900cf39",
   "metadata": {},
   "outputs": [
    {
     "data": {
      "image/png": "[encoded data removed]",
      "text/plain": [
       "<Figure size 576x432 with 2 Axes>"
      ]
     },
     "metadata": {
      "needs_background": "light"
     },
     "output_type": "display_data"
    }
   ],
   "source": [
    "# Plot confusion matrix\n",
    "plt.figure(figsize=(8, 6))\n",
    "sns.heatmap(confusion_matrix(y_test, y_pred), annot=True, fmt='d', cmap='Blues', xticklabels=nb.classes_, yticklabels=nb.classes_)\n",
    "plt.title('Confusion Matrix')\n",
    "plt.xlabel('Predicted')\n",
    "plt.ylabel('Actual')\n",
    "plt.show()"
   ]
  },
  {
   "cell_type": "code",
   "execution_count": 39,
   "id": "100506ef-64e7-42e3-848d-13a6a0043d52",
   "metadata": {},
   "outputs": [
    {
     "data": {
      "image/png": "[encoded data removed]",
      "text/plain": [
       "<Figure size 720x432 with 1 Axes>"
      ]
     },
     "metadata": {
      "needs_background": "light"
     },
     "output_type": "display_data"
    }
   ],
   "source": [
    "# Plot average polarity for each movie\n",
    "average_polarity = df_balanced.groupby('Movie')['Polarity'].mean()\n",
    "plt.figure(figsize=(10, 6))\n",
    "average_polarity.plot(kind='bar', color=['blue', 'green'])\n",
    "plt.title('Average Sentiment Polarity by Movie')\n",
    "plt.ylabel('Average Polarity')\n",
    "plt.xlabel('Movie')\n",
    "plt.show()"
   ]
  },
  {
   "cell_type": "markdown",
   "id": "d0b16c33-76ca-4775-b1b5-84286d9f4255",
   "metadata": {},
   "source": [
    "Accuracy: 0.864406779661017\n",
    "This indicates that the model correctly predicted the sentiment of approximately 86.44% of the reviews. This is a significant improvement over the previous model.\n",
    "\n",
    "The confusion matrix is:\n",
    "negative (48 reviews): The model predicted 46 reviews correctly as negative, 0 as neutral, and 2 incorrectly as positive.\n",
    "neutral (67 reviews): The model predicted 61 reviews correctly as neutral, 6 incorrectly as negative, and 0 as positive.\n",
    "positive (62 reviews): The model predicted 46 reviews correctly as positive, 2 incorrectly as neutral, and 14 incorrectly as negative.\n",
    "\n",
    "The model performs well overall, with a high accuracy of 86.44%.\n",
    "Negative Sentiment: High recall (96%) but lower precision (70%), indicating that most negative reviews are correctly identified, but there are some false positives.\n",
    "Neutral Sentiment: Excellent precision (97%) and good recall (91%), indicating that the model accurately identifies neutral reviews with few misclassifications.\n",
    "Positive Sentiment: High precision (96%) but lower recall (74%), indicating that most predicted positive reviews are indeed positive, but some positive reviews are missed.\n",
    "\n",
    "\n",
    "The model performs significantly better than the previous version, especially in handling class imbalance."
   ]
  },
  {
   "cell_type": "code",
   "execution_count": 41,
   "id": "7cfa18f1-66eb-49b5-b74d-249e97f27c49",
   "metadata": {},
   "outputs": [
    {
     "name": "stdout",
     "output_type": "stream",
     "text": [
      "The best movie based on overall review sentiment analysis is: batman\n"
     ]
    }
   ],
   "source": [
    "# Determine the best movie based on overall review sentiment analysis\n",
    "best_movie = average_polarity.idxmax()\n",
    "print(f'The best movie based on overall review sentiment analysis is: {best_movie}')"
   ]
  }
 ],
 "metadata": {
  "kernelspec": {
   "display_name": "Python 3 (ipykernel)",
   "language": "python",
   "name": "python3"
  },
  "language_info": {
   "codemirror_mode": {
    "name": "ipython",
    "version": 3
   },
   "file_extension": ".py",
   "mimetype": "text/x-python",
   "name": "python",
   "nbconvert_exporter": "python",
   "pygments_lexer": "ipython3",
   "version": "3.9.12"
  }
 },
 "nbformat": 4,
 "nbformat_minor": 5
}
