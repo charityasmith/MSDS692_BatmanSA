{
 "cells": [
  {
   "cell_type": "code",
   "execution_count": 122,
   "id": "f56ea860-6487-4834-99f9-21cc0480a4d9",
   "metadata": {},
   "outputs": [],
   "source": [
    "# Charity Smith\n",
    "# Scraping Rotten Tomatoes for Movie Reviews for Batman and The Dark Knight"
   ]
  },
  {
   "cell_type": "code",
   "execution_count": 1,
   "id": "8c9e70a0-d73d-4a41-a80c-8717b13dcc3f",
   "metadata": {},
   "outputs": [],
   "source": [
    "# Importing necessary libraries\n",
    "from selenium import webdriver\n",
    "from selenium.webdriver.chrome.service import Service\n",
    "from selenium.webdriver.common.by import By\n",
    "import pandas as pd\n",
    "import time"
   ]
  },
  {
   "cell_type": "markdown",
   "id": "25ee9f29-43ec-4fb5-836e-36dc2c760773",
   "metadata": {},
   "source": [
    "The Rotten Tomatoes site loads reviews dynamically using JavaScript, which requires additional handling with tools like Selenium to scrape content that isn't initially available in the HTML source."
   ]
  },
  {
   "cell_type": "markdown",
   "id": "8f8d60ab-213e-4b09-b7d4-4a505627e8b3",
   "metadata": {},
   "source": [
    "I also need to scrapte all the reviews that are hidden behind a \"Load More\" button, which involves simulating clicking the \"Load More\" button until all reviews are loaded."
   ]
  },
  {
   "cell_type": "code",
   "execution_count": 123,
   "id": "e66ee6e3-e09b-4dc6-8bae-3de9adaf4979",
   "metadata": {},
   "outputs": [],
   "source": [
    "# Path to your ChromeDriver (update this path)\n",
    "CHROME_DRIVER_PATH = \"/usr/local/bin/chromedriver\""
   ]
  },
  {
   "cell_type": "code",
   "execution_count": 128,
   "id": "256386b9-c787-4c5e-ae76-aed9882e8697",
   "metadata": {},
   "outputs": [],
   "source": [
    "def scrape_reviews(movie_url):\n",
    "    options = webdriver.ChromeOptions()\n",
    "    options.add_argument('--headless')  # Run Chrome in headless mode\n",
    "    options.add_argument('--disable-gpu')\n",
    "    options.add_argument('--no-sandbox')\n",
    "\n",
    "    service = Service(CHROME_DRIVER_PATH)\n",
    "    \n",
    "    driver = webdriver.Chrome(service=service, options=options)\n",
    "    \n",
    "    driver.get(movie_url)\n",
    "    time.sleep(3)  # Wait for the page to load\n",
    "\n",
    "    # Load all reviews by clicking the \"Load More\" button\n",
    "    while True:\n",
    "        try:\n",
    "            load_more_button = driver.find_element(By.CSS_SELECTOR, 'div.load-more-container rt-button[data-loadmoremanager=\"btnLoadMore:click\"]')\n",
    "            if 'hide' in load_more_button.get_attribute('class'):\n",
    "                print(\"No more reviews to load. All reviews loaded.\")\n",
    "                break\n",
    "            else:\n",
    "                driver.execute_script(\"arguments[0].click();\", load_more_button)\n",
    "                print(\"Clicked 'Load More' button\")\n",
    "                time.sleep(2)  # Wait for the reviews to load\n",
    "        except NoSuchElementException:\n",
    "            print(\"No more 'Load More' button found. All reviews loaded.\")\n",
    "            break\n",
    "\n",
    "    \n",
    "    \n",
    "    review_elements = driver.find_elements(By.CLASS_NAME, 'review-text')\n",
    "    review_texts = [review.text.strip() for review in review_elements]\n",
    "\n",
    "    driver.quit()\n",
    "    \n",
    "    # Log the number of reviews found\n",
    "    print(f\"Found {len(review_texts)} reviews for URL: {movie_url}\")\n",
    "    return review_texts"
   ]
  },
  {
   "cell_type": "code",
   "execution_count": 129,
   "id": "1ffc484c-589c-46d9-ae1c-4cf180fb94af",
   "metadata": {},
   "outputs": [],
   "source": [
    "# URLs of the movie reviews\n",
    "urls = {\n",
    "    \"Batman\": \"https://www.rottentomatoes.com/m/1001781-batman/reviews\",\n",
    "    \"The Dark Knight\": \"https://www.rottentomatoes.com/m/the_dark_knight/reviews\"\n",
    "}"
   ]
  },
  {
   "cell_type": "code",
   "execution_count": 130,
   "id": "4981955c-0251-499b-b70a-0bfac9e97f9c",
   "metadata": {},
   "outputs": [],
   "source": [
    "# Dictionary to store the reviews\n",
    "reviews_data = {}\n",
    "start_time = time.time()"
   ]
  },
  {
   "cell_type": "code",
   "execution_count": 131,
   "id": "4b2bf43f-b403-4bab-954f-9e1b05966fc0",
   "metadata": {},
   "outputs": [
    {
     "name": "stdout",
     "output_type": "stream",
     "text": [
      "Scraping reviews for Batman...\n",
      "Clicked 'Load More' button\n",
      "Clicked 'Load More' button\n",
      "Clicked 'Load More' button\n",
      "Clicked 'Load More' button\n",
      "Clicked 'Load More' button\n",
      "Clicked 'Load More' button\n",
      "Clicked 'Load More' button\n",
      "No more reviews to load. All reviews loaded.\n",
      "Found 140 reviews for URL: https://www.rottentomatoes.com/m/1001781-batman/reviews\n",
      "Scraping reviews for The Dark Knight...\n",
      "Clicked 'Load More' button\n",
      "Clicked 'Load More' button\n",
      "Clicked 'Load More' button\n",
      "Clicked 'Load More' button\n",
      "Clicked 'Load More' button\n",
      "Clicked 'Load More' button\n",
      "Clicked 'Load More' button\n",
      "Clicked 'Load More' button\n",
      "Clicked 'Load More' button\n",
      "Clicked 'Load More' button\n",
      "Clicked 'Load More' button\n",
      "Clicked 'Load More' button\n",
      "Clicked 'Load More' button\n",
      "Clicked 'Load More' button\n",
      "Clicked 'Load More' button\n",
      "Clicked 'Load More' button\n",
      "Clicked 'Load More' button\n",
      "No more reviews to load. All reviews loaded.\n",
      "Found 347 reviews for URL: https://www.rottentomatoes.com/m/the_dark_knight/reviews\n",
      "Scraping reviews for The Batman...\n",
      "Clicked 'Load More' button\n",
      "Clicked 'Load More' button\n",
      "Clicked 'Load More' button\n",
      "Clicked 'Load More' button\n",
      "Clicked 'Load More' button\n",
      "Clicked 'Load More' button\n",
      "Clicked 'Load More' button\n",
      "Clicked 'Load More' button\n",
      "Clicked 'Load More' button\n",
      "Clicked 'Load More' button\n",
      "Clicked 'Load More' button\n",
      "Clicked 'Load More' button\n",
      "Clicked 'Load More' button\n",
      "Clicked 'Load More' button\n",
      "Clicked 'Load More' button\n",
      "Clicked 'Load More' button\n",
      "Clicked 'Load More' button\n",
      "Clicked 'Load More' button\n",
      "Clicked 'Load More' button\n",
      "Clicked 'Load More' button\n",
      "Clicked 'Load More' button\n",
      "Clicked 'Load More' button\n",
      "Clicked 'Load More' button\n",
      "Clicked 'Load More' button\n",
      "Clicked 'Load More' button\n",
      "Clicked 'Load More' button\n",
      "No more reviews to load. All reviews loaded.\n",
      "Found 524 reviews for URL: https://www.rottentomatoes.com/m/the_batman/reviews\n"
     ]
    }
   ],
   "source": [
    "# Scrape reviews for each movie\n",
    "for movie, url in urls.items():\n",
    "    print(f\"Scraping reviews for {movie}...\")\n",
    "    reviews_data[movie] = scrape_reviews(url)\n",
    "    # Adding a delay to avoid hitting the server too frequently\n",
    "    time.sleep(1)"
   ]
  },
  {
   "cell_type": "code",
   "execution_count": 132,
   "id": "76f06f14-8940-45c6-8d53-89cba00f2e41",
   "metadata": {},
   "outputs": [],
   "source": [
    "# Create a DataFrame to store the scraped reviews\n",
    "reviews_df = pd.DataFrame({\n",
    "    \"Movie\": [movie for movie in reviews_data for _ in reviews_data[movie]],\n",
    "    \"Review\": [review for reviews in reviews_data.values() for review in reviews]\n",
    "})"
   ]
  },
  {
   "cell_type": "code",
   "execution_count": 133,
   "id": "0e5d1e79-7f76-4bdb-913e-b31622d784a5",
   "metadata": {},
   "outputs": [
    {
     "data": {
      "text/html": [
       "<div>\n",
       "<style scoped>\n",
       "    .dataframe tbody tr th:only-of-type {\n",
       "        vertical-align: middle;\n",
       "    }\n",
       "\n",
       "    .dataframe tbody tr th {\n",
       "        vertical-align: top;\n",
       "    }\n",
       "\n",
       "    .dataframe thead th {\n",
       "        text-align: right;\n",
       "    }\n",
       "</style>\n",
       "<table border=\"1\" class=\"dataframe\">\n",
       "  <thead>\n",
       "    <tr style=\"text-align: right;\">\n",
       "      <th></th>\n",
       "      <th>Movie</th>\n",
       "      <th>Review</th>\n",
       "    </tr>\n",
       "  </thead>\n",
       "  <tbody>\n",
       "    <tr>\n",
       "      <th>0</th>\n",
       "      <td>Batman</td>\n",
       "      <td>Tim Burton's Batman is a Gothic superhero movi...</td>\n",
       "    </tr>\n",
       "    <tr>\n",
       "      <th>1</th>\n",
       "      <td>Batman</td>\n",
       "      <td>Set to Danny Elfman’s triumphant score, Burton...</td>\n",
       "    </tr>\n",
       "    <tr>\n",
       "      <th>2</th>\n",
       "      <td>Batman</td>\n",
       "      <td>The result is a film that may please adults mo...</td>\n",
       "    </tr>\n",
       "    <tr>\n",
       "      <th>3</th>\n",
       "      <td>Batman</td>\n",
       "      <td>The Gotham City created in Batman is one of th...</td>\n",
       "    </tr>\n",
       "    <tr>\n",
       "      <th>4</th>\n",
       "      <td>Batman</td>\n",
       "      <td>It is both a technical and aesthetic triumph, ...</td>\n",
       "    </tr>\n",
       "  </tbody>\n",
       "</table>\n",
       "</div>"
      ],
      "text/plain": [
       "    Movie                                             Review\n",
       "0  Batman  Tim Burton's Batman is a Gothic superhero movi...\n",
       "1  Batman  Set to Danny Elfman’s triumphant score, Burton...\n",
       "2  Batman  The result is a film that may please adults mo...\n",
       "3  Batman  The Gotham City created in Batman is one of th...\n",
       "4  Batman  It is both a technical and aesthetic triumph, ..."
      ]
     },
     "execution_count": 133,
     "metadata": {},
     "output_type": "execute_result"
    }
   ],
   "source": [
    "# Display the first few rows of the DataFrame\n",
    "reviews_df.head()"
   ]
  },
  {
   "cell_type": "code",
   "execution_count": 134,
   "id": "4e823b1f-150d-438e-9b16-b7bdd49c6356",
   "metadata": {},
   "outputs": [
    {
     "name": "stdout",
     "output_type": "stream",
     "text": [
      "Scraped reviews have been saved to 'batman_movie_reviews.csv'\n"
     ]
    }
   ],
   "source": [
    "# Save the reviews to a CSV file\n",
    "reviews_df.to_csv('batman_movie_reviews.csv', index=False)\n",
    "\n",
    "print(\"Scraped reviews have been saved to 'batman_movie_reviews.csv'\")"
   ]
  }
 ],
 "metadata": {
  "kernelspec": {
   "display_name": "Python 3 (ipykernel)",
   "language": "python",
   "name": "python3"
  },
  "language_info": {
   "codemirror_mode": {
    "name": "ipython",
    "version": 3
   },
   "file_extension": ".py",
   "mimetype": "text/x-python",
   "name": "python",
   "nbconvert_exporter": "python",
   "pygments_lexer": "ipython3",
   "version": "3.9.12"
  }
 },
 "nbformat": 4,
 "nbformat_minor": 5
}
